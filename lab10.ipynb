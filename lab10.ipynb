{
 "cells": [
  {
   "cell_type": "code",
   "execution_count": null,
   "metadata": {},
   "outputs": [],
   "source": [
    "import os\n",
    "import matplotlib.pyplot as plt\n",
    "import librosa\n",
    "import librosa.display\n",
    "import IPython.display as ipd\n",
    "import numpy as np\n"
   ]
  },
  {
   "cell_type": "code",
   "execution_count": null,
   "metadata": {},
   "outputs": [],
   "source": [
    "# load sounds\n",
    "sound_file = \"piano_c.wav\"\n",
    "sound, sr = librosa.load(sound_file)  # sr: sampling rate\n"
   ]
  },
  {
   "cell_type": "code",
   "execution_count": null,
   "metadata": {},
   "outputs": [],
   "source": [
    "ipd.Audio(sound_file)\n"
   ]
  },
  {
   "cell_type": "code",
   "execution_count": null,
   "metadata": {},
   "outputs": [],
   "source": [
    "# Visualising audio signal in the time domain\n",
    "plt.figure(figsize=(18, 5))\n",
    "librosa.display.waveshow(sound, alpha=0.5)\n",
    "plt.ylim((-1, 1))\n",
    "plt.title(\"Sound\")\n"
   ]
  },
  {
   "cell_type": "code",
   "execution_count": null,
   "metadata": {},
   "outputs": [],
   "source": [
    "# Task 1\n",
    "def amplitude_envelope(signal, frame_size, hop_length) -> np.ndarray:\n",
    "    \"\"\"Calculate the amplitude envelope of a signal with a given frame size and hpp_length.\"\"\"\n",
    "    # Hint: recall the definition of amplitude_envelope\n",
    "    return 0\n"
   ]
  },
  {
   "cell_type": "code",
   "execution_count": null,
   "metadata": {},
   "outputs": [],
   "source": [
    "# Task 2\n",
    "# Visualising audio signal in the frequency domain\n",
    "def plot_magnitude_spectrum(signal, sr, title, f_ratio=1):\n",
    "    \"\"\"Time domain -> Frequency domain\"\"\"\n",
    "    # Hint: calculate the FT of signal, then calculate the absolute value to get magnitude\n",
    "\n",
    "    X_mag = np.zeros_like(signal) # need to be modified\n",
    "\n",
    "    # make a plot\n",
    "    plt.figure(figsize=(18, 5))\n",
    "\n",
    "    f = np.linspace(0, sr, len(X_mag))\n",
    "    f_bins = int(len(X_mag)*f_ratio)\n",
    "\n",
    "    plt.plot(f[:f_bins], X_mag[:f_bins])\n",
    "    plt.xlabel('Frequency (Hz)')\n",
    "    plt.title(title)\n",
    "\n",
    "plot_magnitude_spectrum(sound, sr, \"Sound\", 0.1)"
   ]
  },
  {
   "cell_type": "code",
   "execution_count": null,
   "metadata": {},
   "outputs": [],
   "source": [
    "# Task 3\n",
    "def plot_spectrogram(Y, sr, hop_length, y_axis=\"linear\"):\n",
    "    \"\"\"Visualizing the spectrogram\"\"\"\n",
    "    plt.figure(figsize=(25, 10))\n",
    "    # Hint: y_axis choice: \"linear\", \"log\"\n",
    "    # Hint: use librosa.display.specshow()\n",
    "    pass\n",
    "\n",
    "\n",
    "FRAME_SIZE = 2048\n",
    "HOP_SIZE = 512\n",
    "S_scale = librosa.stft(sound, n_fft=FRAME_SIZE, hop_length=HOP_SIZE) # Extracting Short-Time Fourier Transform\n",
    "Y_scale = np.abs(S_scale) ** 2  # Calculating the spectrogram\n",
    "plot_spectrogram(Y_scale, sr, HOP_SIZE) # Visualizing the spectrogram\n",
    "Y_log_scale = librosa.power_to_db(Y_scale)\n",
    "plot_spectrogram(Y_log_scale, sr, HOP_SIZE,y_axis='log') # Log-Frequency Spectrogram\n"
   ]
  },
  {
   "cell_type": "code",
   "execution_count": null,
   "metadata": {},
   "outputs": [],
   "source": [
    "# Visualizing Mel Spectrogram\n",
    "mel_spectrogram = librosa.feature.melspectrogram(\n",
    "    sound, sr=sr, n_fft=2048, hop_length=512, n_mels=10)\n",
    "log_mel_spectrogram = librosa.power_to_db(mel_spectrogram)\n",
    "plt.figure(figsize=(25, 10))\n",
    "librosa.display.specshow(log_mel_spectrogram,\n",
    "                         x_axis=\"time\",\n",
    "                         y_axis=\"mel\",\n",
    "                         sr=sr)\n",
    "plt.colorbar(format=\"%+2.f\")\n",
    "plt.show()\n"
   ]
  },
  {
   "cell_type": "code",
   "execution_count": null,
   "metadata": {},
   "outputs": [],
   "source": [
    "# Task 4\n",
    "# Visualising MFCCs\n",
    "def plot_mfccs(Y, sr, n_mfcc=13):\n",
    "    # Hint: extract mfccs, use librosa.feature.mfcc()\n",
    "    mfccs = None        # need to be modified\n",
    "\n",
    "    \n",
    "    plt.figure(figsize=(25, 10))\n",
    "    librosa.display.specshow(mfccs,\n",
    "                             x_axis=\"time\",\n",
    "                             sr=sr)\n",
    "    plt.colorbar(format=\"%+2.f\")\n",
    "    plt.show()\n",
    "\n",
    "plot_mfccs(sound, sr)"
   ]
  }
 ],
 "metadata": {
  "kernelspec": {
   "display_name": "Python 3.9.6 64-bit",
   "language": "python",
   "name": "python3"
  },
  "language_info": {
   "codemirror_mode": {
    "name": "ipython",
    "version": 3
   },
   "file_extension": ".py",
   "mimetype": "text/x-python",
   "name": "python",
   "nbconvert_exporter": "python",
   "pygments_lexer": "ipython3",
   "version": "3.9.6"
  },
  "orig_nbformat": 4,
  "vscode": {
   "interpreter": {
    "hash": "c6f9656376491b38f59dfd65240f7f2c37ec7a3c30e5d98ee255b8b71a12e656"
   }
  }
 },
 "nbformat": 4,
 "nbformat_minor": 2
}
